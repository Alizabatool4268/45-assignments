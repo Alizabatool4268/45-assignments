{
  "nbformat": 4,
  "nbformat_minor": 0,
  "metadata": {
    "colab": {
      "provenance": [],
      "authorship_tag": "ABX9TyPU8uZwh84CfZsbJ2aL/EWw",
      "include_colab_link": true
    },
    "kernelspec": {
      "name": "python3",
      "display_name": "Python 3"
    },
    "language_info": {
      "name": "python"
    }
  },
  "cells": [
    {
      "cell_type": "markdown",
      "metadata": {
        "id": "view-in-github",
        "colab_type": "text"
      },
      "source": [
        "<a href=\"https://colab.research.google.com/github/Alizabatool4268/45-assignments/blob/main/pythonAssignment1.ipynb\" target=\"_parent\"><img src=\"https://colab.research.google.com/assets/colab-badge.svg\" alt=\"Open In Colab\"/></a>"
      ]
    },
    {
      "cell_type": "markdown",
      "source": [
        "**Part 1: Understanding String Literals**\n",
        "\n",
        "1. Create three different strings using each type of quotation:\n",
        "o Single quotes ('example')\n",
        "o Double quotes (\"example\")\n",
        "o Triple quotes (\"\"\"example\"\"\")\n"
      ],
      "metadata": {
        "id": "HU7AS3kjJX-Y"
      }
    },
    {
      "cell_type": "code",
      "source": [
        "text1='I love python'\n",
        "print(text1)\n",
        "text2 = \"the more you learn the more you earn\"\n",
        "print(text2)\n",
        "text3 = \"\"\" \\n\\t work hard until you succeed \\n\\t \"\"\"\n",
        "print(text3)"
      ],
      "metadata": {
        "colab": {
          "base_uri": "https://localhost:8080/"
        },
        "id": "tegubq8PJmMB",
        "outputId": "e67679ce-4896-414e-eced-e3e123bcff0c"
      },
      "execution_count": null,
      "outputs": [
        {
          "output_type": "stream",
          "name": "stdout",
          "text": [
            "I love python\n",
            "the more you learn the more you earn\n",
            " \n",
            "\t work hard until you succeed \n",
            "\t \n"
          ]
        }
      ]
    },
    {
      "cell_type": "markdown",
      "source": [
        "****\n",
        "**2. Explain in your own words: What is the advantage of each type of quotation?**"
      ],
      "metadata": {
        "id": "iyBmzJKALFkh"
      }
    },
    {
      "cell_type": "markdown",
      "source": [
        "**Advantage of single quotes ( '...' )**\n",
        "\n",
        " Single qoutes are used for string declaration in python.For declaring a simple string we can easily use single quotes and have a string.\n",
        "\n",
        "\n",
        "**Advantage of double quotes ( \"...\" )**\n",
        "\n",
        "Both single and double qoutes are equivalent. Double qoutes are also used for string declaration in python. But they are preferred when declaring aphostrophies with in python.\n",
        "\n",
        "\n",
        "**Advantage of triple qoutes ( \" \" \".... \" \" \" )**\n",
        "\n",
        "Triple qoutes are used for declaring multi line strings. one string can be written with in muti lines.\n",
        "\n"
      ],
      "metadata": {
        "id": "RLo9bx2xLbvE"
      }
    },
    {
      "cell_type": "markdown",
      "source": [
        "****\n",
        "**3. Write a string that contains both single and double quotes inside it. Example: She said,\n",
        "\"I'm going to the store.\"**"
      ],
      "metadata": {
        "id": "9vi2_rJWUuoc"
      }
    },
    {
      "cell_type": "code",
      "source": [
        "doubleAndSingleQuotes = \"I can't believe it's already thursday\"\n",
        "print(doubleAndSingleQuotes)"
      ],
      "metadata": {
        "colab": {
          "base_uri": "https://localhost:8080/"
        },
        "id": "cj2VhBX6U1_0",
        "outputId": "d0d4c92f-4231-49e1-c8e1-48fe83a14fc1"
      },
      "execution_count": null,
      "outputs": [
        {
          "output_type": "stream",
          "name": "stdout",
          "text": [
            "I can't believe it's already thursday\n"
          ]
        }
      ]
    },
    {
      "cell_type": "markdown",
      "source": [
        "****\n",
        "**4. Create a multi-line string using triple quotes that describes your favorite hobby.**"
      ],
      "metadata": {
        "id": "9eQNEnfnXkKi"
      }
    },
    {
      "cell_type": "code",
      "source": [
        "hobby= \"\"\"My hobby is drawing Here are some of the reasons why I like it.\n",
        "1-Drawing gives me peace.\n",
        "2-I can express my self through drawing.\n",
        "That is the main reason I like drawing\"\"\"\n",
        "print(hobby)"
      ],
      "metadata": {
        "colab": {
          "base_uri": "https://localhost:8080/"
        },
        "id": "xvnND7EPXoeI",
        "outputId": "47700036-16e2-4382-9564-e32b744d85f0"
      },
      "execution_count": null,
      "outputs": [
        {
          "output_type": "stream",
          "name": "stdout",
          "text": [
            "My hobby is drawing Here are some of the reasons why I like it.\n",
            "1-Drawing gives me peace.\n",
            "2-I can express my self through drawing.\n",
            "That is the main reason I like drawing\n"
          ]
        }
      ]
    },
    {
      "cell_type": "markdown",
      "source": [
        "**Part 2: String Methods Practice**"
      ],
      "metadata": {
        "id": "_P__7AJjYikt"
      }
    },
    {
      "cell_type": "markdown",
      "source": [
        "****\n",
        "1. Create a variable full_name with your full name (first and last name). Then write code\n",
        "to:\n",
        "\n",
        "o Print your name in all uppercase letters\n",
        "\n",
        "o Print your name in all lowercase letters\n",
        "\n",
        "o Print your name with the first letter of each name capitalized"
      ],
      "metadata": {
        "id": "ZB_8cJKNYmhs"
      }
    },
    {
      "cell_type": "code",
      "source": [
        "full_name = \"Aliza batool\"\n",
        "#name in all uppercase letter\n",
        "print(full_name.upper())\n",
        "#name in all lowercase letter\n",
        "print(full_name.lower())\n",
        "#name with the first letter of each name capitalized\n",
        "print(full_name.title())"
      ],
      "metadata": {
        "colab": {
          "base_uri": "https://localhost:8080/"
        },
        "id": "S2Ls59_NY138",
        "outputId": "c8feaa44-8cf4-496e-a423-707c24954c97"
      },
      "execution_count": null,
      "outputs": [
        {
          "output_type": "stream",
          "name": "stdout",
          "text": [
            "ALIZA BATOOL\n",
            "aliza batool\n",
            "Aliza Batool\n"
          ]
        }
      ]
    },
    {
      "cell_type": "markdown",
      "source": [
        "****\n",
        "2. Create a variable messy_text = \" Python programming is fun! \" Then write code\n",
        "to:\n",
        "\n",
        "o Remove all the extra spaces at the beginning and end\n",
        "\n",
        "o Replace \"fun\" with \"amazing\"\n",
        "\n",
        "o Count how many times the letter 'i' appears"
      ],
      "metadata": {
        "id": "bbdq_kfHbizF"
      }
    },
    {
      "cell_type": "code",
      "source": [
        "messy_text = \"  Python programming is fun!  \"\n",
        "# extra spaces at the begning and the end\n",
        "print(messy_text.strip())\n",
        "#Replace \"fun\" with \"amazing\"\n",
        "print(messy_text.replace(\"fun\",\"amazing\"))\n",
        "#number of i\n",
        "print(messy_text.count(\"i\"))\n"
      ],
      "metadata": {
        "id": "l9R0aGIEbyeT",
        "colab": {
          "base_uri": "https://localhost:8080/"
        },
        "outputId": "a1ac60b7-b244-4b32-812a-67e8dbac21dc"
      },
      "execution_count": null,
      "outputs": [
        {
          "output_type": "stream",
          "name": "stdout",
          "text": [
            "Python programming is fun!\n",
            "  Python programming is amazing!  \n",
            "2\n",
            "  Python programming is fun!  \n"
          ]
        }
      ]
    },
    {
      "cell_type": "markdown",
      "source": [
        "****\n",
        "3. Create a variable sentence = \"The quick brown fox jumps over the lazy dog\"\n",
        "Then write code to:\n",
        "\n",
        "o Split this sentence into a list of words\n",
        "\n",
        "o Join the words back together with dashes between them\n",
        "\n",
        "o Check if the sentence starts with \"The\"\n",
        "\n",
        "o Find the position of the word \"fox\""
      ],
      "metadata": {
        "id": "t1stZ_DjCjMr"
      }
    },
    {
      "cell_type": "code",
      "source": [
        "sentence = \"The quick brown fox jumps over the lazy dog\"\n",
        "\n",
        "#Split this sentence into a list of words\n",
        "\n",
        "splitText=sentence.split()\n",
        "print(splitText)\n",
        "\n",
        "#Join the words back together with dashes between them\n",
        "\n",
        "joinText =  \" - \".join(splitText)\n",
        "print(joinText)\n",
        "\n",
        "#Check if the sentence starts with \"The\"\n",
        "\n",
        "print(sentence.startswith(\"The\"))\n",
        "\n",
        "#Find the position of the word \"fox\"\n",
        "print(sentence.find(\"fox\"))\n"
      ],
      "metadata": {
        "colab": {
          "base_uri": "https://localhost:8080/"
        },
        "id": "7OjepxDiCqCt",
        "outputId": "a2fb23a6-bc56-44bd-c6de-f02fd68cc208"
      },
      "execution_count": 35,
      "outputs": [
        {
          "output_type": "stream",
          "name": "stdout",
          "text": [
            "['The', 'quick', 'brown', 'fox', 'jumps', 'over', 'the', 'lazy', 'dog']\n",
            "The - quick - brown - fox - jumps - over - the - lazy - dog\n",
            "True\n",
            "16\n"
          ]
        }
      ]
    },
    {
      "cell_type": "markdown",
      "source": [
        "**Part 3: F-Strings**"
      ],
      "metadata": {
        "id": "5eG4ADoLIuTB"
      }
    },
    {
      "cell_type": "markdown",
      "source": [
        "1- Create variables for:\n",
        "\n",
        "o Your name\n",
        "\n",
        "o Your age\n",
        "\n",
        "o Your favorite programming language\n",
        "\n",
        "Then use f-strings to create these sentences:\n",
        "\n",
        "o \"My name is {your_name} and I am {your_age} years old.\"\n",
        "\n",
        "o \"I enjoy programming in {language}, it's my favorite!\"\n",
        "\n",
        "o Create a math expression inside an f-string: \"In 5 years, I will be {age + 5} years\n",
        "old.\"\n",
        "\n"
      ],
      "metadata": {
        "id": "QraFfzdPIzoY"
      }
    },
    {
      "cell_type": "code",
      "source": [
        "your_name= \"Aliza Batool\"\n",
        "your_age = 17\n",
        "language = \"python\"\n",
        "\n",
        "print(f\"My name is {your_name} and I am {your_age} years old\")\n",
        "print(f\"I enjoy programming in {language}, it's my favourite!\")\n",
        "print(f\"In five years old I will be {your_age + 5} years old \")"
      ],
      "metadata": {
        "id": "_BR6sgzGJEYY",
        "colab": {
          "base_uri": "https://localhost:8080/"
        },
        "outputId": "36760656-b7c4-4d29-c58b-3f5649966868"
      },
      "execution_count": 34,
      "outputs": [
        {
          "output_type": "stream",
          "name": "stdout",
          "text": [
            "My name is Aliza Batool and I am 17 years old\n",
            "I enjoy programming in python, it's my favourite!\n",
            "In five years old I will be 22 years old \n"
          ]
        }
      ]
    },
    {
      "cell_type": "markdown",
      "source": [
        "**Part 4: Combining String Methods with F-Strings**"
      ],
      "metadata": {
        "id": "tcFaEjnDtfth"
      }
    },
    {
      "cell_type": "markdown",
      "source": [
        "Create a program that:\n",
        "1. Asks for user input about their first name, last name, and birth year\n",
        "2. Uses string methods to properly capitalize their name\n",
        "3. Uses f-strings to create a profile message: \"Profile: {First Last}, Age: {calculated age},\n",
        "Username: {first initial + last name + birth year}\""
      ],
      "metadata": {
        "id": "jTactcRytjvv"
      }
    },
    {
      "cell_type": "code",
      "source": [
        "first_name = input(\"Enter your first name \")\n",
        "Last_name = input(\"Enter your last name \")\n",
        "birth_year = input(\"Enter birth year \")\n",
        "#string methods to properly capitalize their name\n",
        "full_name = f\"{first_name.title()} {Last_name.title()}\"\n",
        "print(f\"Full name {full_name}\")\n",
        "\n",
        "age= 2025- int(birth_year)\n",
        "user_profile = f\"\"\"\\t\\n User Profile \\n\n",
        " Profile:{full_name}\n",
        " Age:{age}\n",
        " username:{first_name + Last_name + birth_year} \"\"\"\n",
        "\n",
        "print(user_profile)"
      ],
      "metadata": {
        "colab": {
          "base_uri": "https://localhost:8080/"
        },
        "id": "rinT2fPotsNm",
        "outputId": "4927fddc-d158-4832-85d4-bfbe89f13119"
      },
      "execution_count": 33,
      "outputs": [
        {
          "output_type": "stream",
          "name": "stdout",
          "text": [
            "Enter your first name aliza\n",
            "Enter your last name batool\n",
            "Enter birth year 2007\n",
            "Full name Aliza Batool\n",
            "\t\n",
            " User Profile \n",
            "\n",
            " Profile:Aliza Batool\n",
            " Age:18\n",
            " username:alizabatool2007 \n"
          ]
        }
      ]
    }
  ]
}